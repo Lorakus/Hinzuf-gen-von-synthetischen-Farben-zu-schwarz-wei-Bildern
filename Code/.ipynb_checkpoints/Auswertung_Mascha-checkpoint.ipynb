{
 "cells": [
  {
   "cell_type": "markdown",
   "metadata": {},
   "source": [
    "# Hinzufügen von synthetischen Farben zu schwarz weiß Bildern\n",
    "###  Gruppe von Karol, Louisa, Masha\n",
    "### Seminar: Visuelle Wahrnehmung beim Menschen und Bildqualität - WiSe 2020/21"
   ]
  },
  {
   "cell_type": "markdown",
   "metadata": {},
   "source": [
    "**Agenda:**\n",
    "* Introduction\n",
    "* Fragestellung\n",
    "* Hypothesen\n",
    "* Methode/ Versuchsplan\n",
    "* Ergebnisse\n",
    "* Interpretation\n",
    "* Summary und Probleme\n",
    "\n",
    "### Introduction:\n",
    "\n",
    "Heutzutage haben wir die Möglichkeit, Farben in alten Filmen oder Fotos zu reproduzieren. Das nachfolgend beschriebene Experiment wurde durchgeführt, um zu prüfen, ob Menschen Originalbilder von künstlich gefärbten Bildern unterscheiden können. \n",
    "\n",
    "**Fragestellung: **\n",
    "\n",
    "Die Frage, die wir uns gestellt haben, ist folgende: \n",
    "\n",
    "“Können Menschen unterscheiden, ob Bildfarben original sind oder synthetisch hergestellt werden?”\n",
    "\n",
    "**Hypothese:**\n",
    "\n",
    "Wenn die natürliche Kombination von Farben entscheidend für die Bildwahrnehmung der Menschen ist, können diese ein organisches von einem synthetisch erzeugten Bild unterscheiden\n",
    "\n",
    "**Methode/ Versuchsplan:**\n",
    "\n",
    "Das Experiment wurde in 3 Phasen durchgeführt:\n",
    "1. Vorbereitung von Fotos:  Farbfotos wurden in Schwarz-Weiß-Fotos umgewandelt.\n",
    "2. Wiederherstellung der Farben: Schwarz-Weiß-Fotos wurden mit 2 Algorithmen gefärbt. (ECCV 16 und SIGGraph17)\n",
    "3. Bewertung: die Fotos wurden präsentiert und bewertet \n",
    "\n",
    "\n",
    "\n",
    "\n",
    "\n",
    "\n",
    "\n",
    "**Variablen:**\n",
    "\n",
    "Unabhängige:\n",
    "* Farbwahrnehmung der einzelne Personen\n",
    "* Art der Bilder \n",
    "\n",
    "\n",
    "**Abhängige**\n",
    "\n",
    "* Farbwahrnehmung der einzelne Personen\n",
    "\n",
    "\n",
    "\n",
    "**Art der Bilder:** (plus example pics)\n",
    "\n",
    "Die Fotos sind in 3 Kategorien eingeteilt, die die verschiedenen Landschaften darstellen, die unsere Meinung nach, einen Einfluss auf die Wahrnehmung der Farbe auf dem Foto haben \n",
    "\n",
    "1. Stadt\n",
    "2. Natur\n",
    "3. Alltag\n",
    "\n",
    "\n",
    "**Versuchsbedingungen:** \n",
    "\n",
    "Die Testperson hatte die Wahl zwischen 2 Fotos, einem Original und einem künstlich gefärbten. Das Experiment dauerte etwa 5 Minuten. \n",
    "\n",
    "(example of experiment) \n",
    "\n",
    "* 2-er Vergleich:\n",
    "* Originalbild vs. künstlich gefärbtes (zufällige Position) (example photo)\n",
    "* 5 Minuten Bearbeitungszeit\n"
   ]
  },
  {
   "cell_type": "markdown",
   "metadata": {},
   "source": [
    "### Ergebnisse"
   ]
  },
  {
   "cell_type": "markdown",
   "metadata": {},
   "source": [
    "### Sanity check/ data cleaning "
   ]
  },
  {
   "cell_type": "code",
   "execution_count": 56,
   "metadata": {
    "scrolled": true
   },
   "outputs": [],
   "source": [
    "import pandas as pd    # module to work with data in DataFrames.\n",
    "import seaborn as sns  # module to plot DataFrames in an easy way\n",
    "import matplotlib.pyplot as plt\n",
    "import numpy as np\n",
    "from itertools import groupby\n",
    "from IPython.display import Image\n",
    "from PIL import Image\n",
    "import matplotlib.patches as mpatches"
   ]
  },
  {
   "cell_type": "code",
   "execution_count": 57,
   "metadata": {},
   "outputs": [],
   "source": [
    "sns.set_context('talk')"
   ]
  },
  {
   "cell_type": "code",
   "execution_count": 58,
   "metadata": {},
   "outputs": [],
   "source": [
    "#read the data\n",
    "df = pd.read_csv('gesamt_results.csv',index_col=False)\n",
    "\n",
    "#add column rightChoice\n",
    "df['rightChoice']=(df['ref_position']==df['response'])\n",
    "\n",
    "#give an ID to a person for gouping by\n",
    "nrows= df.shape[0]\n",
    "indeces= np.asarray([i*np.ones(60) for i in range(int(nrows/60))], dtype=np.int).reshape(nrows)\n",
    "df['person']=indeces"
   ]
  },
  {
   "cell_type": "code",
   "execution_count": 59,
   "metadata": {
    "scrolled": false
   },
   "outputs": [
    {
     "data": {
      "text/html": [
       "<div>\n",
       "<style scoped>\n",
       "    .dataframe tbody tr th:only-of-type {\n",
       "        vertical-align: middle;\n",
       "    }\n",
       "\n",
       "    .dataframe tbody tr th {\n",
       "        vertical-align: top;\n",
       "    }\n",
       "\n",
       "    .dataframe thead th {\n",
       "        text-align: right;\n",
       "    }\n",
       "</style>\n",
       "<table border=\"1\" class=\"dataframe\">\n",
       "  <thead>\n",
       "    <tr style=\"text-align: right;\">\n",
       "      <th></th>\n",
       "      <th>category</th>\n",
       "      <th>algorithmus</th>\n",
       "      <th>reference_image</th>\n",
       "      <th>test_image</th>\n",
       "      <th>ref_position</th>\n",
       "      <th>response</th>\n",
       "      <th>resptime</th>\n",
       "      <th>image_id</th>\n",
       "      <th>rightChoice</th>\n",
       "      <th>person</th>\n",
       "    </tr>\n",
       "  </thead>\n",
       "  <tbody>\n",
       "    <tr>\n",
       "      <th>0</th>\n",
       "      <td>Alltag</td>\n",
       "      <td>siggraph17</td>\n",
       "      <td>images/60.jpg</td>\n",
       "      <td>images/60_siggraph17.jpg</td>\n",
       "      <td>0</td>\n",
       "      <td>0</td>\n",
       "      <td>43.251104</td>\n",
       "      <td>60</td>\n",
       "      <td>True</td>\n",
       "      <td>0</td>\n",
       "    </tr>\n",
       "    <tr>\n",
       "      <th>1</th>\n",
       "      <td>Stadt</td>\n",
       "      <td>eccv16</td>\n",
       "      <td>images/36.jpg</td>\n",
       "      <td>images/36_eccv16.jpg</td>\n",
       "      <td>1</td>\n",
       "      <td>1</td>\n",
       "      <td>2.402254</td>\n",
       "      <td>36</td>\n",
       "      <td>True</td>\n",
       "      <td>0</td>\n",
       "    </tr>\n",
       "    <tr>\n",
       "      <th>2</th>\n",
       "      <td>Natur</td>\n",
       "      <td>eccv16</td>\n",
       "      <td>images/2.jpg</td>\n",
       "      <td>images/2_eccv16.jpg</td>\n",
       "      <td>0</td>\n",
       "      <td>0</td>\n",
       "      <td>3.484254</td>\n",
       "      <td>2</td>\n",
       "      <td>True</td>\n",
       "      <td>0</td>\n",
       "    </tr>\n",
       "    <tr>\n",
       "      <th>3</th>\n",
       "      <td>Alltag</td>\n",
       "      <td>eccv16</td>\n",
       "      <td>images/55.jpg</td>\n",
       "      <td>images/55_eccv16.jpg</td>\n",
       "      <td>1</td>\n",
       "      <td>1</td>\n",
       "      <td>2.504276</td>\n",
       "      <td>55</td>\n",
       "      <td>True</td>\n",
       "      <td>0</td>\n",
       "    </tr>\n",
       "    <tr>\n",
       "      <th>4</th>\n",
       "      <td>Natur</td>\n",
       "      <td>eccv16</td>\n",
       "      <td>images/3.jpg</td>\n",
       "      <td>images/3_eccv16.jpg</td>\n",
       "      <td>0</td>\n",
       "      <td>0</td>\n",
       "      <td>9.359400</td>\n",
       "      <td>3</td>\n",
       "      <td>True</td>\n",
       "      <td>0</td>\n",
       "    </tr>\n",
       "  </tbody>\n",
       "</table>\n",
       "</div>"
      ],
      "text/plain": [
       "  category algorithmus reference_image                test_image  \\\n",
       "0   Alltag  siggraph17   images/60.jpg  images/60_siggraph17.jpg   \n",
       "1    Stadt      eccv16   images/36.jpg      images/36_eccv16.jpg   \n",
       "2    Natur      eccv16    images/2.jpg       images/2_eccv16.jpg   \n",
       "3   Alltag      eccv16   images/55.jpg      images/55_eccv16.jpg   \n",
       "4    Natur      eccv16    images/3.jpg       images/3_eccv16.jpg   \n",
       "\n",
       "   ref_position  response   resptime  image_id  rightChoice  person  \n",
       "0             0         0  43.251104        60         True       0  \n",
       "1             1         1   2.402254        36         True       0  \n",
       "2             0         0   3.484254         2         True       0  \n",
       "3             1         1   2.504276        55         True       0  \n",
       "4             0         0   9.359400         3         True       0  "
      ]
     },
     "execution_count": 59,
     "metadata": {},
     "output_type": "execute_result"
    }
   ],
   "source": [
    "# explore the first entries in your data\n",
    "df.head()\n"
   ]
  },
  {
   "cell_type": "code",
   "execution_count": 60,
   "metadata": {
    "scrolled": false
   },
   "outputs": [
    {
     "data": {
      "text/plain": [
       "Text(0, 0.5, 'Zeit, Sek.')"
      ]
     },
     "execution_count": 60,
     "metadata": {},
     "output_type": "execute_result"
    },
    {
     "data": {
      "image/png": "[encoded data removed]",
      "text/plain": [
       "<Figure size 720x720 with 1 Axes>"
      ]
     },
     "metadata": {
      "needs_background": "light"
     },
     "output_type": "display_data"
    }
   ],
   "source": [
    "#plot distribution of time needed for response\n",
    "dfBox=df[['category','resptime']]\n",
    "ax =dfBox.boxplot(by=['category'], figsize=(10,10))\n",
    "\n",
    "ax.set_ylabel(\"Zeit, Sek.\")"
   ]
  },
  {
   "cell_type": "markdown",
   "metadata": {},
   "source": [
    "#### Kommentar zum Boxplot:\n",
    "Unsere Einschätzung einer durchscnittlischen Dauer des Experimentes war ziemlich gut: die Median der Antwortzeit liegt bei allen 3 Kategorien unter 5 Sekunden pro Bild.\n",
    "Am schnellsten konnten sich die Teilnehmende bei der Kategorie Alltag entscheiden. Andersrum, bei der Bildern der Natur musste es schwerer gewesen sein, eine Antwort zu geben.\n",
    "Bei allen 3 Kategorien gibt's Ausreißer. Es entsteht die Frage: haben diese Ausreißer einen Einflüß auf die Ergebnisse der Datenauswertung? Um diese zu beantworten, führen wir alle Auswertungen für 2 Datensätze aus: einmal mit und einmal ohne Ausreißer."
   ]
  },
  {
   "cell_type": "code",
   "execution_count": 61,
   "metadata": {},
   "outputs": [],
   "source": [
    "#divide the dataframe accordingly\n",
    "dfWithoutOutliers= df.loc[df['resptime']<10.]\n",
    "dfOutliers= df.loc[df['resptime']>=10.]"
   ]
  },
  {
   "cell_type": "code",
   "execution_count": 62,
   "metadata": {
    "scrolled": true
   },
   "outputs": [
    {
     "name": "stdout",
     "output_type": "stream",
     "text": [
      "total amount of rows in complete data frame:  900\n",
      "amount of unique values in column \" category \":  3\n",
      "amount of unique values in column \" algorithmus \":  2\n",
      "amount of unique values in column \" reference_image \":  60\n",
      "amount of unique values in column \" test_image \":  120\n",
      "amount of unique values in column \" ref_position \":  2\n",
      "amount of unique values in column \" response \":  2\n",
      "amount of unique values in column \" resptime \":  899\n",
      "amount of unique values in column \" image_id \":  60\n",
      "amount of unique values in column \" rightChoice \":  2\n",
      "amount of unique values in column \" person \":  15\n",
      "total amount of rows in data frame without outliers:  835\n",
      "amount of unique values in column \" category \":  3\n",
      "amount of unique values in column \" algorithmus \":  2\n",
      "amount of unique values in column \" reference_image \":  60\n",
      "amount of unique values in column \" test_image \":  120\n",
      "amount of unique values in column \" ref_position \":  2\n",
      "amount of unique values in column \" response \":  2\n",
      "amount of unique values in column \" resptime \":  834\n",
      "amount of unique values in column \" image_id \":  60\n",
      "amount of unique values in column \" rightChoice \":  2\n",
      "amount of unique values in column \" person \":  15\n"
     ]
    },
    {
     "data": {
      "text/plain": [
       "[None, None, None, None, None, None, None, None, None, None]"
      ]
     },
     "execution_count": 62,
     "metadata": {},
     "output_type": "execute_result"
    }
   ],
   "source": [
    "# sanity checks: how many groups do we expect per categorical variable?\n",
    "\n",
    "print('total amount of rows in complete data frame: ', df.shape[0]) \n",
    "\n",
    "[print('amount of unique values in column \"',col,'\": ',df[col].unique().size) for col in df[0:]]\n",
    "\n",
    "print('total amount of rows in data frame without outliers: ', dfWithoutOutliers.shape[0]) \n",
    "\n",
    "[print('amount of unique values in column \"',col,'\": ',dfWithoutOutliers[col].unique().size) for col in df[0:]]"
   ]
  },
  {
   "cell_type": "code",
   "execution_count": 63,
   "metadata": {
    "scrolled": true
   },
   "outputs": [
    {
     "name": "stdout",
     "output_type": "stream",
     "text": [
      "                      person\n",
      "category algorithmus        \n",
      "Alltag   eccv16          150\n",
      "         siggraph17      150\n",
      "Natur    eccv16          150\n",
      "         siggraph17      150\n",
      "Stadt    eccv16          150\n",
      "         siggraph17      150\n",
      "                      person\n",
      "category algorithmus        \n",
      "Alltag   eccv16          144\n",
      "         siggraph17      146\n",
      "Natur    eccv16          138\n",
      "         siggraph17      129\n",
      "Stadt    eccv16          142\n",
      "         siggraph17      136\n",
      "                      person\n",
      "category algorithmus        \n",
      "Alltag   eccv16            6\n",
      "         siggraph17        4\n",
      "Natur    eccv16           12\n",
      "         siggraph17       21\n",
      "Stadt    eccv16            8\n",
      "         siggraph17       14\n"
     ]
    }
   ],
   "source": [
    "# for complete data frame we expect 20 pictures per category; 10 colored by 1 algorithm, 10 by another; each of 15 people gets such a set\n",
    "agg1 = df[['category','algorithmus', 'person']].groupby(['category','algorithmus']).count()\n",
    "print(agg1)\n",
    "\n",
    "#check, whether devision of data set worked correctly\n",
    "aggWithoutOut=dfWithoutOutliers[['category','algorithmus', 'person']].groupby(['category','algorithmus']).count()\n",
    "print(aggWithoutOut)\n",
    "\n",
    "aggOut=dfOutliers[['category','algorithmus', 'person']].groupby(['category','algorithmus']).count()\n",
    "print(aggOut)"
   ]
  },
  {
   "cell_type": "code",
   "execution_count": 48,
   "metadata": {
    "scrolled": true
   },
   "outputs": [
    {
     "name": "stdout",
     "output_type": "stream",
     "text": [
      "                    algorithmus\n",
      "person rightChoice             \n",
      "0      False                  6\n",
      "       True                  54\n",
      "1      False                 15\n",
      "       True                  45\n",
      "2      False                  3\n",
      "       True                  57\n",
      "3      False                  4\n",
      "       True                  56\n",
      "4      False                 49\n",
      "       True                  11\n",
      "5      False                  6\n",
      "       True                  54\n",
      "6      False                  1\n",
      "       True                  59\n",
      "7      False                 10\n",
      "       True                  50\n",
      "8      False                 10\n",
      "       True                  50\n",
      "9      False                 12\n",
      "       True                  48\n",
      "10     False                  3\n",
      "       True                  57\n",
      "11     False                  8\n",
      "       True                  52\n",
      "12     False                 12\n",
      "       True                  48\n",
      "13     False                  4\n",
      "       True                  56\n",
      "14     False                  8\n",
      "       True                  52\n"
     ]
    }
   ],
   "source": [
    "#Check amount of right and wrong answers per person\n",
    "#if too many wrong answers: mb person mixed up F and J or the task to select the ORIGINAL image\n",
    "agg2 = df[['algorithmus','person','rightChoice']].groupby(['person','rightChoice']).count() #pay attention to person 4\n",
    "print(agg2)"
   ]
  },
  {
   "cell_type": "code",
   "execution_count": 49,
   "metadata": {
    "scrolled": true
   },
   "outputs": [
    {
     "name": "stdout",
     "output_type": "stream",
     "text": [
      "                    algorithmus\n",
      "person rightChoice             \n",
      "0      False                  6\n",
      "       True                  54\n",
      "1      False                 15\n",
      "       True                  45\n",
      "2      False                  3\n",
      "       True                  57\n",
      "3      False                  4\n",
      "       True                  56\n",
      "4      False                 11\n",
      "       True                  49\n",
      "5      False                  6\n",
      "       True                  54\n",
      "6      False                  1\n",
      "       True                  59\n",
      "7      False                 10\n",
      "       True                  50\n",
      "8      False                 10\n",
      "       True                  50\n",
      "9      False                 12\n",
      "       True                  48\n",
      "10     False                  3\n",
      "       True                  57\n",
      "11     False                  8\n",
      "       True                  52\n",
      "12     False                 12\n",
      "       True                  48\n",
      "13     False                  4\n",
      "       True                  56\n",
      "14     False                  8\n",
      "       True                  52\n",
      "                    algorithmus\n",
      "person rightChoice             \n",
      "0      False                  5\n",
      "       True                  52\n",
      "1      False                 15\n",
      "       True                  43\n",
      "2      False                  3\n",
      "       True                  57\n",
      "3      False                  4\n",
      "       True                  54\n",
      "4      False                 11\n",
      "       True                  46\n",
      "5      False                  6\n",
      "       True                  54\n",
      "6      False                  1\n",
      "       True                  53\n",
      "7      False                 10\n",
      "       True                  48\n",
      "8      False                  6\n",
      "       True                  46\n",
      "9      False                  8\n",
      "       True                  45\n",
      "10     False                  1\n",
      "       True                  51\n",
      "11     False                  5\n",
      "       True                  45\n",
      "12     False                 12\n",
      "       True                  46\n",
      "13     False                  2\n",
      "       True                  49\n",
      "14     False                  8\n",
      "       True                  49\n"
     ]
    },
    {
     "name": "stderr",
     "output_type": "stream",
     "text": [
      "/home/mascha/miniconda3/lib/python3.7/site-packages/pandas/core/indexing.py:1736: SettingWithCopyWarning: \n",
      "A value is trying to be set on a copy of a slice from a DataFrame.\n",
      "Try using .loc[row_indexer,col_indexer] = value instead\n",
      "\n",
      "See the caveats in the documentation: https://pandas.pydata.org/pandas-docs/stable/user_guide/indexing.html#returning-a-view-versus-a-copy\n",
      "  isetter(loc, value[:, i].tolist())\n"
     ]
    }
   ],
   "source": [
    "#change True and False for person 4\n",
    "df.loc[df['person']==4,['rightChoice']]=( df['ref_position'] != df['response'])\n",
    "#same view as before, person 4 fixed\n",
    "agg2 = df[['algorithmus','person','rightChoice']].groupby(['person','rightChoice']).count() #pay attention to person 4\n",
    "print(agg2)\n",
    "\n",
    "#change True and False for person 4 in data frame without outliers\n",
    "dfWithoutOutliers.loc[dfWithoutOutliers['person']==4,['rightChoice']]=( dfWithoutOutliers['ref_position'] != dfWithoutOutliers['response'])\n",
    "#same view as before, person 4 fixed\n",
    "aggWO = dfWithoutOutliers[['algorithmus','person','rightChoice']].groupby(['person','rightChoice']).count() #pay attention to person 4\n",
    "print(aggWO)"
   ]
  },
  {
   "cell_type": "markdown",
   "metadata": {},
   "source": [
    "### Visualisierung der Ergebnisse"
   ]
  },
  {
   "cell_type": "code",
   "execution_count": 50,
   "metadata": {
    "scrolled": false
   },
   "outputs": [],
   "source": [
    "#define the first plot\n",
    "\n",
    "def autolabel(rects, axes):\n",
    "        for rect in rects:\n",
    "            height = rect.get_height()\n",
    "            axes.text(rect.get_x() + rect.get_width()/2., height,\n",
    "                    '%d' % int(height),fontsize=12,\n",
    "                    ha='center', va='bottom')\n",
    "\n",
    "def plot1(df):\n",
    "    df2 = df[['algorithmus','rightChoice','person']]\n",
    "    df3=df2.groupby(['algorithmus','rightChoice']).count()\n",
    "    df3 = df3.unstack(level=1)\n",
    "    df3.columns = df3.columns.droplevel(level=0)\n",
    "    alg=df3.index\n",
    "\n",
    "    # set width of bars\n",
    "    barWidth = 0.25\n",
    "\n",
    "    # Set position of bar on X axis in order to get a not-stacked bar plot\n",
    "    r1 = np.arange(2)\n",
    "    r2 = [x + barWidth for x in r1]\n",
    "\n",
    "    a2=plt.bar(r1, df3[False], color='green',width=barWidth)\n",
    "    a1=plt.bar(r2, df3[True],color='red',width=barWidth)\n",
    "\n",
    "    plt.ylabel('Anzahl Fälle')\n",
    "    plt.xlabel('Algorithmus')\n",
    "    plt.xticks([r + barWidth for r in range(2)], alg)\n",
    "    legend=plt.legend([a1,a2],['als solche erkannt','fürs Original gehalten'],title=\"Färbung durch den Algorithmus wurde\",fontsize=10, title_fontsize=10)\n",
    "    axes = plt.gca()\n",
    "    axes.set_ylim([0,550])\n",
    "    \n",
    "    #source: https://stackoverflow.com/questions/30228069/how-to-display-the-value-of-the-bar-on-each-bar-with-pyplot-barh\n",
    "    \n",
    "    autolabel(a2, axes)\n",
    "    autolabel(a1, axes)\n",
    "    plt.show()"
   ]
  },
  {
   "cell_type": "code",
   "execution_count": 51,
   "metadata": {
    "scrolled": true
   },
   "outputs": [
    {
     "data": {
      "image/png": "[encoded data removed]",
      "text/plain": [
       "<Figure size 432x288 with 1 Axes>"
      ]
     },
     "metadata": {
      "needs_background": "light"
     },
     "output_type": "display_data"
    }
   ],
   "source": [
    "#create plot1 for the complete dataset\n",
    "plot1(df)"
   ]
  },
  {
   "cell_type": "code",
   "execution_count": 52,
   "metadata": {
    "scrolled": true
   },
   "outputs": [
    {
     "data": {
      "image/png": "[encoded data removed]",
      "text/plain": [
       "<Figure size 432x288 with 1 Axes>"
      ]
     },
     "metadata": {
      "needs_background": "light"
     },
     "output_type": "display_data"
    }
   ],
   "source": [
    "#create plot1 for the dataset without outliers\n",
    "plot1(dfWithoutOutliers)"
   ]
  },
  {
   "cell_type": "markdown",
   "metadata": {},
   "source": [
    "#### Kommentar zu Plot1:\n",
    "Man bemerkt, dass siggraph17 Färbungen liefert, die zwar etwas häufiger mit der Originalfärbung verwechselt werden. Der Unterschied ist allerdings marginal. Das gilt sowohl für den Datensatz mit, als auch für den ohne Ausreißer. Das entfernen von Ausreißer verändert also nicht das Gesamtbild. "
   ]
  },
  {
   "cell_type": "code",
   "execution_count": 53,
   "metadata": {},
   "outputs": [],
   "source": [
    "#define plot2\n",
    "#partially taken over from https://www.py4u.net/discuss/153265\n",
    "def plot2(df):\n",
    "    def add_line(ax, xpos, ypos):\n",
    "        line = plt.Line2D([xpos, xpos], [ypos + .1, ypos],\n",
    "                          transform=ax.transAxes, color='black')\n",
    "        line.set_clip_on(False)\n",
    "        ax.add_line(line)\n",
    "\n",
    "    def label_len(my_index,level):\n",
    "        labels = my_index.get_level_values(level)\n",
    "        return [(k, sum(1 for i in g)) for k,g in groupby(labels)]\n",
    "\n",
    "    def label_group_bar_table(ax, df):\n",
    "        ypos = -.1\n",
    "        scale = 1./df.index.size\n",
    "        for level in range(df.index.nlevels-1)[::-1]:\n",
    "            pos = 0\n",
    "            for label, rpos in label_len(df.index,level):\n",
    "                lxpos = (pos + .5 * rpos)*scale\n",
    "                ax.text(lxpos, ypos, label, ha='center', transform=ax.transAxes, fontsize=10)\n",
    "                add_line(ax, pos*scale, ypos)\n",
    "                pos += rpos\n",
    "            add_line(ax, pos*scale , ypos)\n",
    "            ypos -= .1\n",
    "\n",
    "\n",
    "    dfAct = df[['category','algorithmus','rightChoice','person']]\n",
    "    df3=dfAct.groupby(['category','algorithmus','rightChoice']).count()\n",
    "\n",
    "    #set colors\n",
    "    df3.loc[(slice(None),slice(None), slice(True)), 'color']='red'\n",
    "    df3.loc[(slice(None),slice(None), slice(False)), 'color']='green'\n",
    "\n",
    "    #create figure\n",
    "    fig = plt.figure()\n",
    "    ax = fig.add_subplot(111)\n",
    "    plots=df3['person'].plot(kind='bar',ax=fig.gca(), color=df3.color) #ax= get current axes\n",
    "    #Below 3 lines remove default labels\n",
    "    labels = ['' for item in ax.get_xticklabels()]\n",
    "    ax.set_xticklabels(labels)\n",
    "    ax.set_xlabel('')\n",
    "\n",
    "    label_group_bar_table(ax, df3)\n",
    "    fig.subplots_adjust(bottom=.1*df.index.nlevels)\n",
    "    plt.ylabel('Anzahl Fälle')\n",
    "    red_patch = mpatches.Patch(color='red', label='als solche erkannt')\n",
    "    green_patch = mpatches.Patch(color='green', label='fürs Original gehalten')\n",
    "    plt.legend(handles=[red_patch, green_patch],title=\"Färbung durch den Algorithmus wurde\",fontsize=10, title_fontsize=10)  \n",
    "    ax.set_ylim([0,200])\n",
    "    autolabel(ax.patches,ax)\n",
    "    plt.show()"
   ]
  },
  {
   "cell_type": "code",
   "execution_count": 54,
   "metadata": {},
   "outputs": [
    {
     "data": {
      "image/png": "[encoded data removed]",
      "text/plain": [
       "<Figure size 432x288 with 1 Axes>"
      ]
     },
     "metadata": {
      "needs_background": "light"
     },
     "output_type": "display_data"
    }
   ],
   "source": [
    "#plot 2 for complete dataframe\n",
    "plot2(df)"
   ]
  },
  {
   "cell_type": "code",
   "execution_count": 55,
   "metadata": {
    "scrolled": false
   },
   "outputs": [
    {
     "data": {
      "image/png": "[encoded data removed]",
      "text/plain": [
       "<Figure size 432x288 with 1 Axes>"
      ]
     },
     "metadata": {
      "needs_background": "light"
     },
     "output_type": "display_data"
    }
   ],
   "source": [
    "#plot 2 for dataframe without outliers\n",
    "plot2(dfWithoutOutliers)"
   ]
  },
  {
   "cell_type": "markdown",
   "metadata": {},
   "source": [
    "#### Kommentar zu Plot2:\n",
    "Für beide Datensätze gilt: \n",
    "1. siggraph17 performt konsequent besser, als eccv16, und zwar über alle Bildkategorien. Wiederum aber nicht wirklich signifikant besser.\n",
    "2. Menschen können am besten originale von künstlichen Färbungen der Bilder in Kategorie Alltag unterscheiden. In den Kategorien Natur und Stadt ist es ungefähr gleich schwer.\n"
   ]
  },
  {
   "cell_type": "markdown",
   "metadata": {},
   "source": [
    "### Diskussion\n",
    "Es war im Großteil der Fälle zu beobachten, dass die Versuchspersonen einen klaren Unterschied zwischen dem originalen Bild und dem vom Algorithmus synthetisch gefärbten Bild erkennen konnte. Somit kann man davon ausgehen, dass die Färbung der Bilder Rolle spielt, wenn es sich um die Wahrnehmung der darauf abgebildeten Objekte handelt. Bei dem siggraph17 Algorithmus fiel es im Allgemeinen leichter das originale Bild ausfindig zu machen, was mit der Idee einher geht, dass sowohl unsere Wahrnehmung als auch die Fortgeschrittenheit des genutzten Algorithmus eine Rolle spielt.\n",
    " \n",
    "**Mögliche Probleme**\n",
    "\n",
    "Aufgrund des Qualitätunterschiedes solcher färbenden Algorithmen, sagt das Ergebnis nicht unbedingt für den allgemein Fall etwas aus. Des Weiteren haben wir mit einer Anzahl von insgesamt 15 Versuchspersonen, eine relativ kleine Versuchsgruppe. Für welche wir auch die Aufgabenstellung noch klarer formulieren können.\n",
    " \n",
    "**Offene Fragen**\n",
    "\n",
    "Es ist aufgefallen, dass es einen Unterschied für die jeweiligen Versuchspersonen gemacht hatte, ob sie ein Bild aus der Kategorie ‚Natur‘ oder ‚Alltag‘ vor sich hatte. Interessant wäre für den zukünftigen Verlauf, inwiefern dies an den Objekten liegt, oder ob es nicht mehr etwas mit der Farbpalette und Farbvariation der genutzten Bilder zusammenhängt. Außerdem könnte noch weiter untersucht werden, ob diese Entscheidung genau so fallen würde, wenn die Versuchsperson nicht das originale Bild zum Vergleich vorliegen hat.\n"
   ]
  }
 ],
 "metadata": {
  "interpreter": {
   "hash": "ac2eaa0ea0ebeafcc7822e65e46aa9d4f966f30b695406963e145ea4a91cd4fc"
  },
  "kernelspec": {
   "display_name": "Python 3",
   "language": "python",
   "name": "python3"
  },
  "language_info": {
   "codemirror_mode": {
    "name": "ipython",
    "version": 3
   },
   "file_extension": ".py",
   "mimetype": "text/x-python",
   "name": "python",
   "nbconvert_exporter": "python",
   "pygments_lexer": "ipython3",
   "version": "3.8.5"
  }
 },
 "nbformat": 4,
 "nbformat_minor": 5
}
